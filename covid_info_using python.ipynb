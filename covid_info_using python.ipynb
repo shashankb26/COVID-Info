{
 "cells": [
  {
   "cell_type": "code",
   "execution_count": 3,
   "metadata": {},
   "outputs": [
    {
     "name": "stdout",
     "output_type": "stream",
     "text": [
      "Total active cases in world: None\n",
      "Total recovered cases in world: None\n",
      "Total deaths in world: 4817675\n",
      "id : 182\n",
      "country : US\n",
      "confirmed : 43950779\n",
      "active : None\n",
      "deaths : 705284\n",
      "recovered : None\n",
      "latitude : 40.0\n",
      "longitude : -100.0\n",
      "last_update : 1633508486000\n"
     ]
    }
   ],
   "source": [
    "# importing the library\n",
    "from covid import Covid\n",
    "# initializing\n",
    "covid = Covid()\n",
    "# printing data for the world\n",
    "print(\"Total active cases in world:\", covid.get_total_active_cases())\n",
    "print(\"Total recovered cases in world:\", covid.get_total_recovered())\n",
    "print(\"Total deaths in world:\", covid.get_total_deaths())\n",
    "# getting data according to country name\n",
    "# data will be stored as a dictionary\n",
    "cases = covid.get_status_by_country_name(\"us\")\n",
    "# printing country's data using for loop\n",
    "for x in cases:\n",
    "    print(x, \":\", cases[x])"
   ]
  },
  {
   "cell_type": "code",
   "execution_count": null,
   "metadata": {},
   "outputs": [],
   "source": []
  }
 ],
 "metadata": {
  "kernelspec": {
   "display_name": "Python 3",
   "language": "python",
   "name": "python3"
  },
  "language_info": {
   "codemirror_mode": {
    "name": "ipython",
    "version": 3
   },
   "file_extension": ".py",
   "mimetype": "text/x-python",
   "name": "python",
   "nbconvert_exporter": "python",
   "pygments_lexer": "ipython3",
   "version": "3.7.6"
  }
 },
 "nbformat": 4,
 "nbformat_minor": 4
}
